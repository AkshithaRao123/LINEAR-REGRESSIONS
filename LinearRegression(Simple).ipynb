{
 "cells": [
  {
   "cell_type": "markdown",
   "id": "41428bc4",
   "metadata": {},
   "source": [
    "Simple Linear Regression"
   ]
  },
  {
   "cell_type": "markdown",
   "id": "553b6b13",
   "metadata": {},
   "source": [
    "Importing Libraries"
   ]
  },
  {
   "cell_type": "code",
   "execution_count": 1,
   "id": "ff44ad00",
   "metadata": {},
   "outputs": [],
   "source": [
    "import matplotlib.pyplot as plt\n",
    "import pandas as pd"
   ]
  },
  {
   "cell_type": "markdown",
   "id": "5e34a4eb",
   "metadata": {},
   "source": [
    "Creating Dataset"
   ]
  },
  {
   "cell_type": "code",
   "execution_count": 40,
   "id": "6fc553de",
   "metadata": {},
   "outputs": [],
   "source": [
    "from random import choice\n",
    "\n",
    "exp = []\n",
    "sal = []\n",
    "\n",
    "for i in range(15,80):\n",
    "    exp.append(i + choice([1.6,1.2,-1.6,-1.7]))\n",
    "    sal.append(36*i + 12.5 + choice([1.3,-1.2,1.1,-0.8]))      \n",
    "    \n",
    "df = pd.DataFrame(list(zip(exp,sal)), columns = \"Experience Salary\".split())\n"
   ]
  },
  {
   "cell_type": "code",
   "execution_count": 41,
   "id": "aa96a900",
   "metadata": {},
   "outputs": [
    {
     "data": {
      "text/html": [
       "<div>\n",
       "<style scoped>\n",
       "    .dataframe tbody tr th:only-of-type {\n",
       "        vertical-align: middle;\n",
       "    }\n",
       "\n",
       "    .dataframe tbody tr th {\n",
       "        vertical-align: top;\n",
       "    }\n",
       "\n",
       "    .dataframe thead th {\n",
       "        text-align: right;\n",
       "    }\n",
       "</style>\n",
       "<table border=\"1\" class=\"dataframe\">\n",
       "  <thead>\n",
       "    <tr style=\"text-align: right;\">\n",
       "      <th></th>\n",
       "      <th>Experience</th>\n",
       "      <th>Salary</th>\n",
       "    </tr>\n",
       "  </thead>\n",
       "  <tbody>\n",
       "    <tr>\n",
       "      <th>0</th>\n",
       "      <td>16.2</td>\n",
       "      <td>551.3</td>\n",
       "    </tr>\n",
       "    <tr>\n",
       "      <th>1</th>\n",
       "      <td>17.6</td>\n",
       "      <td>589.8</td>\n",
       "    </tr>\n",
       "    <tr>\n",
       "      <th>2</th>\n",
       "      <td>15.3</td>\n",
       "      <td>625.6</td>\n",
       "    </tr>\n",
       "    <tr>\n",
       "      <th>3</th>\n",
       "      <td>19.2</td>\n",
       "      <td>659.7</td>\n",
       "    </tr>\n",
       "    <tr>\n",
       "      <th>4</th>\n",
       "      <td>20.2</td>\n",
       "      <td>697.8</td>\n",
       "    </tr>\n",
       "    <tr>\n",
       "      <th>...</th>\n",
       "      <td>...</td>\n",
       "      <td>...</td>\n",
       "    </tr>\n",
       "    <tr>\n",
       "      <th>60</th>\n",
       "      <td>73.4</td>\n",
       "      <td>2713.6</td>\n",
       "    </tr>\n",
       "    <tr>\n",
       "      <th>61</th>\n",
       "      <td>74.4</td>\n",
       "      <td>2747.7</td>\n",
       "    </tr>\n",
       "    <tr>\n",
       "      <th>62</th>\n",
       "      <td>75.4</td>\n",
       "      <td>2783.3</td>\n",
       "    </tr>\n",
       "    <tr>\n",
       "      <th>63</th>\n",
       "      <td>79.2</td>\n",
       "      <td>2819.7</td>\n",
       "    </tr>\n",
       "    <tr>\n",
       "      <th>64</th>\n",
       "      <td>80.2</td>\n",
       "      <td>2857.6</td>\n",
       "    </tr>\n",
       "  </tbody>\n",
       "</table>\n",
       "<p>65 rows × 2 columns</p>\n",
       "</div>"
      ],
      "text/plain": [
       "    Experience  Salary\n",
       "0         16.2   551.3\n",
       "1         17.6   589.8\n",
       "2         15.3   625.6\n",
       "3         19.2   659.7\n",
       "4         20.2   697.8\n",
       "..         ...     ...\n",
       "60        73.4  2713.6\n",
       "61        74.4  2747.7\n",
       "62        75.4  2783.3\n",
       "63        79.2  2819.7\n",
       "64        80.2  2857.6\n",
       "\n",
       "[65 rows x 2 columns]"
      ]
     },
     "execution_count": 41,
     "metadata": {},
     "output_type": "execute_result"
    }
   ],
   "source": [
    "df"
   ]
  },
  {
   "cell_type": "code",
   "execution_count": 42,
   "id": "15163b61",
   "metadata": {},
   "outputs": [
    {
     "data": {
      "text/plain": [
       "<matplotlib.collections.PathCollection at 0x1e45ae84fd0>"
      ]
     },
     "execution_count": 42,
     "metadata": {},
     "output_type": "execute_result"
    },
    {
     "data": {
      "image/png": "[encoded data removed]",
      "text/plain": [
       "<Figure size 432x288 with 1 Axes>"
      ]
     },
     "metadata": {
      "needs_background": "light"
     },
     "output_type": "display_data"
    }
   ],
   "source": [
    "df.to_csv('expVsSal.csv', index = False)\n",
    "plt.scatter(exp,sal)"
   ]
  },
  {
   "cell_type": "markdown",
   "id": "4ff87794",
   "metadata": {},
   "source": [
    "Importing the dataset"
   ]
  },
  {
   "cell_type": "code",
   "execution_count": 43,
   "id": "821054ae",
   "metadata": {},
   "outputs": [],
   "source": [
    "dataset = pd.read_csv(\"expVsSal.csv\")\n",
    "\n",
    "x = dataset.iloc[:,:-1]\n",
    "y = dataset.iloc[:,-1]"
   ]
  },
  {
   "cell_type": "markdown",
   "id": "bf669b49",
   "metadata": {},
   "source": [
    "Splitting the dataset into the Training set and Test set"
   ]
  },
  {
   "cell_type": "code",
   "execution_count": 44,
   "id": "e1341f05",
   "metadata": {},
   "outputs": [],
   "source": [
    "from sklearn.model_selection import train_test_split"
   ]
  },
  {
   "cell_type": "code",
   "execution_count": 45,
   "id": "f3f8d55c",
   "metadata": {},
   "outputs": [
    {
     "name": "stdout",
     "output_type": "stream",
     "text": [
      "    Experience\n",
      "45        58.3\n",
      "29        45.6\n",
      "43        56.3\n",
      "62        75.4\n",
      "34        47.3\n",
      "33        49.6\n",
      "31        44.4\n",
      "40        56.6\n",
      "26        39.4\n",
      "63        79.2\n",
      "22        38.6\n",
      "2         15.3\n",
      "11        27.6\n",
      "28        41.3\n",
      "54        70.6\n",
      "4         20.2\n",
      "10        23.4\n",
      "35        48.3\n",
      "52        65.4\n",
      "46        62.6\n",
      "45    2173.8\n",
      "29    1595.7\n",
      "43    2099.3\n",
      "62    2783.3\n",
      "34    1777.8\n",
      "33    1739.7\n",
      "31    1667.7\n",
      "40    1991.3\n",
      "26    1489.8\n",
      "63    2819.7\n",
      "22    1343.3\n",
      "2      625.6\n",
      "11     949.6\n",
      "28    1559.3\n",
      "54    2495.3\n",
      "4      697.8\n",
      "10     911.7\n",
      "35    1813.6\n",
      "52    2423.3\n",
      "46    2209.6\n",
      "Name: Salary, dtype: float64\n"
     ]
    }
   ],
   "source": [
    "x_train, x_test, y_train, y_test = train_test_split(x, y, test_size=0.3, random_state = 0)\n",
    "print(x_test)\n",
    "print(y_test)"
   ]
  },
  {
   "cell_type": "markdown",
   "id": "30dd15e8",
   "metadata": {},
   "source": [
    "Training the Simple Linear Regression model"
   ]
  },
  {
   "cell_type": "code",
   "execution_count": 46,
   "id": "3dff8094",
   "metadata": {},
   "outputs": [],
   "source": [
    "from sklearn.linear_model import LinearRegression"
   ]
  },
  {
   "cell_type": "code",
   "execution_count": 47,
   "id": "b04b7fbb",
   "metadata": {},
   "outputs": [
    {
     "data": {
      "text/plain": [
       "LinearRegression()"
      ]
     },
     "execution_count": 47,
     "metadata": {},
     "output_type": "execute_result"
    }
   ],
   "source": [
    "obj = LinearRegression()\n",
    "obj.fit(x_train, y_train)"
   ]
  },
  {
   "cell_type": "markdown",
   "id": "07089fcd",
   "metadata": {},
   "source": [
    "Predicting the Test set results"
   ]
  },
  {
   "cell_type": "code",
   "execution_count": 48,
   "id": "5ca52a15",
   "metadata": {},
   "outputs": [
    {
     "data": {
      "text/plain": [
       "array([2116.47414976, 1660.83959059, 2044.72067587, 2729.96635147,\n",
       "       1721.83004339, 1804.34653836, 1617.78750626, 2055.48369695,\n",
       "       1438.40382154, 2866.29795185, 1409.70243199,  573.77446123,\n",
       "       1015.05832562, 1506.56962174, 2557.75801415,  749.57047225,\n",
       "        864.37603047, 1757.70678033, 2371.19898205, 2270.74411861])"
      ]
     },
     "execution_count": 48,
     "metadata": {},
     "output_type": "execute_result"
    }
   ],
   "source": [
    "y_pred = obj.predict(x_test)\n",
    "y_pred"
   ]
  },
  {
   "cell_type": "code",
   "execution_count": 49,
   "id": "f333c539",
   "metadata": {},
   "outputs": [
    {
     "data": {
      "text/html": [
       "<div>\n",
       "<style scoped>\n",
       "    .dataframe tbody tr th:only-of-type {\n",
       "        vertical-align: middle;\n",
       "    }\n",
       "\n",
       "    .dataframe tbody tr th {\n",
       "        vertical-align: top;\n",
       "    }\n",
       "\n",
       "    .dataframe thead th {\n",
       "        text-align: right;\n",
       "    }\n",
       "</style>\n",
       "<table border=\"1\" class=\"dataframe\">\n",
       "  <thead>\n",
       "    <tr style=\"text-align: right;\">\n",
       "      <th></th>\n",
       "      <th>Experience</th>\n",
       "    </tr>\n",
       "  </thead>\n",
       "  <tbody>\n",
       "    <tr>\n",
       "      <th>45</th>\n",
       "      <td>58.3</td>\n",
       "    </tr>\n",
       "    <tr>\n",
       "      <th>29</th>\n",
       "      <td>45.6</td>\n",
       "    </tr>\n",
       "    <tr>\n",
       "      <th>43</th>\n",
       "      <td>56.3</td>\n",
       "    </tr>\n",
       "    <tr>\n",
       "      <th>62</th>\n",
       "      <td>75.4</td>\n",
       "    </tr>\n",
       "    <tr>\n",
       "      <th>34</th>\n",
       "      <td>47.3</td>\n",
       "    </tr>\n",
       "    <tr>\n",
       "      <th>33</th>\n",
       "      <td>49.6</td>\n",
       "    </tr>\n",
       "    <tr>\n",
       "      <th>31</th>\n",
       "      <td>44.4</td>\n",
       "    </tr>\n",
       "    <tr>\n",
       "      <th>40</th>\n",
       "      <td>56.6</td>\n",
       "    </tr>\n",
       "    <tr>\n",
       "      <th>26</th>\n",
       "      <td>39.4</td>\n",
       "    </tr>\n",
       "    <tr>\n",
       "      <th>63</th>\n",
       "      <td>79.2</td>\n",
       "    </tr>\n",
       "    <tr>\n",
       "      <th>22</th>\n",
       "      <td>38.6</td>\n",
       "    </tr>\n",
       "    <tr>\n",
       "      <th>2</th>\n",
       "      <td>15.3</td>\n",
       "    </tr>\n",
       "    <tr>\n",
       "      <th>11</th>\n",
       "      <td>27.6</td>\n",
       "    </tr>\n",
       "    <tr>\n",
       "      <th>28</th>\n",
       "      <td>41.3</td>\n",
       "    </tr>\n",
       "    <tr>\n",
       "      <th>54</th>\n",
       "      <td>70.6</td>\n",
       "    </tr>\n",
       "    <tr>\n",
       "      <th>4</th>\n",
       "      <td>20.2</td>\n",
       "    </tr>\n",
       "    <tr>\n",
       "      <th>10</th>\n",
       "      <td>23.4</td>\n",
       "    </tr>\n",
       "    <tr>\n",
       "      <th>35</th>\n",
       "      <td>48.3</td>\n",
       "    </tr>\n",
       "    <tr>\n",
       "      <th>52</th>\n",
       "      <td>65.4</td>\n",
       "    </tr>\n",
       "    <tr>\n",
       "      <th>46</th>\n",
       "      <td>62.6</td>\n",
       "    </tr>\n",
       "  </tbody>\n",
       "</table>\n",
       "</div>"
      ],
      "text/plain": [
       "    Experience\n",
       "45        58.3\n",
       "29        45.6\n",
       "43        56.3\n",
       "62        75.4\n",
       "34        47.3\n",
       "33        49.6\n",
       "31        44.4\n",
       "40        56.6\n",
       "26        39.4\n",
       "63        79.2\n",
       "22        38.6\n",
       "2         15.3\n",
       "11        27.6\n",
       "28        41.3\n",
       "54        70.6\n",
       "4         20.2\n",
       "10        23.4\n",
       "35        48.3\n",
       "52        65.4\n",
       "46        62.6"
      ]
     },
     "execution_count": 49,
     "metadata": {},
     "output_type": "execute_result"
    }
   ],
   "source": [
    "x_test"
   ]
  },
  {
   "cell_type": "code",
   "execution_count": 50,
   "id": "b29c5951",
   "metadata": {},
   "outputs": [
    {
     "data": {
      "text/plain": [
       "45    2173.8\n",
       "29    1595.7\n",
       "43    2099.3\n",
       "62    2783.3\n",
       "34    1777.8\n",
       "33    1739.7\n",
       "31    1667.7\n",
       "40    1991.3\n",
       "26    1489.8\n",
       "63    2819.7\n",
       "22    1343.3\n",
       "2      625.6\n",
       "11     949.6\n",
       "28    1559.3\n",
       "54    2495.3\n",
       "4      697.8\n",
       "10     911.7\n",
       "35    1813.6\n",
       "52    2423.3\n",
       "46    2209.6\n",
       "Name: Salary, dtype: float64"
      ]
     },
     "execution_count": 50,
     "metadata": {},
     "output_type": "execute_result"
    }
   ],
   "source": [
    "y_test"
   ]
  },
  {
   "cell_type": "markdown",
   "id": "f16be63f",
   "metadata": {},
   "source": [
    "Visualising the Training set results"
   ]
  },
  {
   "cell_type": "code",
   "execution_count": 51,
   "id": "38ea3290",
   "metadata": {},
   "outputs": [
    {
     "data": {
      "image/png": "[encoded data removed]",
      "text/plain": [
       "<Figure size 432x288 with 1 Axes>"
      ]
     },
     "metadata": {
      "needs_background": "light"
     },
     "output_type": "display_data"
    }
   ],
   "source": [
    "plt.scatter(x_train, y_train)\n",
    "plt.plot(x_train, obj.predict(x_train), color = 'red')\n",
    "plt.title('Experience vs Salary (Training set)')\n",
    "plt.xlabel(\"Experience\")\n",
    "plt.ylabel(\"Salary\")\n",
    "plt.show()"
   ]
  },
  {
   "cell_type": "markdown",
   "id": "89687e70",
   "metadata": {},
   "source": [
    "Getting the final linear regression equation with the values of the coefficients"
   ]
  },
  {
   "cell_type": "code",
   "execution_count": 52,
   "id": "03d15a42",
   "metadata": {},
   "outputs": [
    {
     "name": "stdout",
     "output_type": "stream",
     "text": [
      "[35.87673694]\n",
      "24.860386012181834\n"
     ]
    }
   ],
   "source": [
    "print(obj.coef_)\n",
    "print(obj.intercept_)"
   ]
  },
  {
   "cell_type": "code",
   "execution_count": 53,
   "id": "c2ead1a7",
   "metadata": {
    "scrolled": true
   },
   "outputs": [
    {
     "data": {
      "text/plain": [
       "array([455.38122932])"
      ]
     },
     "execution_count": 53,
     "metadata": {},
     "output_type": "execute_result"
    }
   ],
   "source": [
    "# Prediction of salary of a person of exp 12\n",
    "obj.predict([[12]])"
   ]
  },
  {
   "cell_type": "code",
   "execution_count": 54,
   "id": "d9d734ff",
   "metadata": {},
   "outputs": [
    {
     "data": {
      "text/plain": [
       "array([2894.99934141])"
      ]
     },
     "execution_count": 54,
     "metadata": {},
     "output_type": "execute_result"
    }
   ],
   "source": [
    "obj.predict([[80]])"
   ]
  },
  {
   "cell_type": "code",
   "execution_count": 55,
   "id": "4541b101",
   "metadata": {},
   "outputs": [
    {
     "data": {
      "text/plain": [
       "array([ 527.13470321, 2033.95765479,  742.39512486, 3612.53408026])"
      ]
     },
     "execution_count": 55,
     "metadata": {},
     "output_type": "execute_result"
    }
   ],
   "source": [
    "obj.predict([[14],[56],[20],[100]])"
   ]
  },
  {
   "cell_type": "code",
   "execution_count": 56,
   "id": "d688ca00",
   "metadata": {},
   "outputs": [],
   "source": [
    "# Measuring accuracy\n",
    "\n",
    "from sklearn.metrics import mean_absolute_error"
   ]
  },
  {
   "cell_type": "code",
   "execution_count": 59,
   "id": "1f57c985",
   "metadata": {},
   "outputs": [
    {
     "data": {
      "text/plain": [
       "56.50963581354332"
      ]
     },
     "execution_count": 59,
     "metadata": {},
     "output_type": "execute_result"
    }
   ],
   "source": [
    "mean_absolute_error(y_test, y_pred)\n",
    "# Answer that shows up is the 'Mean absolute error regression loss'; \n",
    "# Lesser the loss, more the accuracy"
   ]
  },
  {
   "cell_type": "code",
   "execution_count": 58,
   "id": "9bd3b8bc",
   "metadata": {},
   "outputs": [
    {
     "data": {
      "text/plain": [
       "[<matplotlib.lines.Line2D at 0x1e45af6d1c0>]"
      ]
     },
     "execution_count": 58,
     "metadata": {},
     "output_type": "execute_result"
    },
    {
     "data": {
      "image/png": "[encoded data removed]",
      "text/plain": [
       "<Figure size 432x288 with 1 Axes>"
      ]
     },
     "metadata": {
      "needs_background": "light"
     },
     "output_type": "display_data"
    }
   ],
   "source": [
    "plt.scatter(x_test, y_test)\n",
    "plt.plot(x_test, obj.predict(x_test), color = 'red')"
   ]
  },
  {
   "cell_type": "code",
   "execution_count": null,
   "id": "2d142d5a",
   "metadata": {},
   "outputs": [],
   "source": []
  },
  {
   "cell_type": "code",
   "execution_count": null,
   "id": "322b5547",
   "metadata": {},
   "outputs": [],
   "source": []
  }
 ],
 "metadata": {
  "kernelspec": {
   "display_name": "Python 3 (ipykernel)",
   "language": "python",
   "name": "python3"
  },
  "language_info": {
   "codemirror_mode": {
    "name": "ipython",
    "version": 3
   },
   "file_extension": ".py",
   "mimetype": "text/x-python",
   "name": "python",
   "nbconvert_exporter": "python",
   "pygments_lexer": "ipython3",
   "version": "3.9.7"
  }
 },
 "nbformat": 4,
 "nbformat_minor": 5
}
